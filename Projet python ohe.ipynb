{
 "cells": [
  {
   "cell_type": "code",
   "execution_count": null,
   "metadata": {},
   "outputs": [],
   "source": []
  },
  {
   "cell_type": "markdown",
   "metadata": {},
   "source": [
    "# Librairies Utilisées"
   ]
  },
  {
   "cell_type": "code",
   "execution_count": 1,
   "metadata": {
    "scrolled": true
   },
   "outputs": [
    {
     "name": "stderr",
     "output_type": "stream",
     "text": [
      "/Users/safadjerir/opt/anaconda3/lib/python3.8/site-packages/pandas/core/computation/expressions.py:20: UserWarning: Pandas requires version '2.7.3' or newer of 'numexpr' (version '2.7.1' currently installed).\n",
      "  from pandas.core.computation.check import NUMEXPR_INSTALLED\n"
     ]
    }
   ],
   "source": [
    "import pandas as pd\n",
    "import numpy as np\n",
    "import matplotlib.pyplot as plt\n",
    "import geopy.distance\n",
    "import numpy\n",
    "\n",
    "from mpl_toolkits.mplot3d import Axes3D\n",
    "from sklearn.preprocessing import StandardScaler\n",
    "import matplotlib.pyplot as plt # plotting\n",
    "import numpy as np # linear algebra\n",
    "import os # accessing directory structure\n",
    "import pandas as pd # data processing, CSV file I/O (e.g. pd.read_csv)\n",
    "from functools import reduce\n",
    "\n",
    "import seaborn as sns\n",
    "import matplotlib.pyplot as plt\n",
    "\n",
    "from kneed import KneeLocator\n",
    "from sklearn.datasets import make_blobs\n",
    "from sklearn.cluster import KMeans\n",
    "from sklearn.metrics import silhouette_score\n",
    "from sklearn.preprocessing import StandardScaler\n",
    "from sklearn.model_selection import train_test_split"
   ]
  },
  {
   "cell_type": "markdown",
   "metadata": {},
   "source": [
    "Dans le cadre de notre étude, nous avons prévu de charger et de fusionner quatre tables de données pour construire une seule table qui contiendra l'ensemble de nos données. Nous avons décidé de ne pas utiliser la table des vacances pour le moment, mais nous pourrons peut-être l'intégrer ultérieurement si nécessaire. Cette opération de fusion des tables nous permettra de disposer d'un jeu de données complet et cohérent, qui nous servira de base pour notre analyse."
   ]
  },
  {
   "cell_type": "code",
   "execution_count": 2,
   "metadata": {},
   "outputs": [],
   "source": [
    "holidays = pd.read_csv(\"holidays.csv\")\n",
    "places = pd.read_csv(\"places.csv\",low_memory=False)\n",
    "users = pd.read_csv(\"users.csv\")\n",
    "vehicles = pd.read_csv(\"vehicles.csv\")\n",
    "caracteristics = pd.read_csv(\"caracteristics.csv\",encoding='latin-1',low_memory=False)"
   ]
  },
  {
   "cell_type": "markdown",
   "metadata": {},
   "source": [
    "# Nettoyage des données "
   ]
  },
  {
   "cell_type": "markdown",
   "metadata": {},
   "source": [
    "Dans cette partie de notre étude, nous avons décidé de consacrer du temps et des efforts pour nettoyer les données et nous assurer que nous ne retenons que les informations qui sont importantes et pertinentes pour notre analyse. Cela nous permettra de travailler avec des données de qualité et de minimiser les erreurs ou les biais qui pourraient affecter nos résultats. Nous estimons que cette étape est cruciale pour obtenir des résultats précis et fiables."
   ]
  },
  {
   "cell_type": "markdown",
   "metadata": {},
   "source": [
    "Nous avons décidé de nous concentrer sur les accidents qui se sont produits en France métropolitaine. Cette décision s'explique par le fait que nous estimons que les départements d'outre-mer ont des caractéristiques de routes et de climat qui peuvent différer de celles de la France métropolitaine et qui pourraient influencer les résultats de notre analyse. En limitant notre étude aux accidents survenus en France métropolitaine, nous espérons obtenir des résultats plus pertinents et plus fiables."
   ]
  },
  {
   "cell_type": "code",
   "execution_count": 3,
   "metadata": {},
   "outputs": [],
   "source": [
    "# Limitons l'échelle de l'étude sur la France Métropolitaine\n",
    "domtom = [971,972,973,974,976,975]\n",
    "caracteristics = caracteristics[~caracteristics.dep.isin(domtom)]\n",
    "caracteristics = caracteristics[caracteristics.gps != \"A\"] # drop des Antilles"
   ]
  },
  {
   "cell_type": "markdown",
   "metadata": {},
   "source": [
    "Nous allons fusionner les bases de données qui contiennent des informations sur les accidents de la route. Le champ commun entre ces bases de données est le numéro d'accident, qui est unique pour chaque accident.\n",
    "\n",
    "Pour vérifier la qualité des données après la fusion, nous allons comparer le nombre d'usagers avant et après la fusion. Si le nombre d'usagers n'a pas changé, cela indique que la fusion s'est déroulée correctement et que les données sont de qualité."
   ]
  },
  {
   "cell_type": "code",
   "execution_count": 4,
   "metadata": {},
   "outputs": [],
   "source": [
    "Merging = [caracteristics,users,places]\n",
    "accidents = reduce(lambda left,right: pd.merge(left,right,on=['Num_Acc'],how='left'),Merging)\n",
    "Merging = [accidents,vehicles]\n",
    "accidents = reduce(lambda left,right: pd.merge(left,right,on=['Num_Acc','num_veh'],how='left'),Merging)"
   ]
  },
  {
   "cell_type": "markdown",
   "metadata": {},
   "source": [
    "### Traitement des valeurs manquantes \n",
    "\n",
    "Nous allons écrire une fonction qui nous montrera le nombre de valeurs manquantes pour chaque variable, ainsi que le pourcentage de valeurs manquantes associé à chaque variable."
   ]
  },
  {
   "cell_type": "code",
   "execution_count": 5,
   "metadata": {},
   "outputs": [],
   "source": [
    "def missing_values_table(df):\n",
    "        # Total missing values\n",
    "        mis_val = df.isnull().sum()\n",
    "        \n",
    "        # Percentage of missing values\n",
    "        mis_val_percent = 100 * df.isnull().sum() / len(df)\n",
    "        \n",
    "        # Make a table with the results\n",
    "        mis_val_table = pd.concat([mis_val, mis_val_percent], axis=1)\n",
    "        \n",
    "        # Rename the columns\n",
    "        mis_val_table_ren_columns = mis_val_table.rename(\n",
    "        columns = {0 : 'Missing Values', 1 : '% of Total Values'})\n",
    "        \n",
    "        # Sort the table by percentage of missing descending\n",
    "        mis_val_table_ren_columns = mis_val_table_ren_columns[\n",
    "            mis_val_table_ren_columns.iloc[:,1] != 0].sort_values(\n",
    "        '% of Total Values', ascending=False).round(1)\n",
    "        \n",
    "        # Print some summary information\n",
    "        print (\"Your selected dataframe has \" + str(df.shape[1]) + \" columns.\\n\"      \n",
    "            \"There are \" + str(mis_val_table_ren_columns.shape[0]) +\n",
    "              \" columns that have missing values.\")\n",
    "        \n",
    "        # Return the dataframe with missing information\n",
    "        return mis_val_table_ren_columns"
   ]
  },
  {
   "cell_type": "code",
   "execution_count": 6,
   "metadata": {
    "scrolled": true
   },
   "outputs": [
    {
     "name": "stdout",
     "output_type": "stream",
     "text": [
      "Your selected dataframe has 51 columns.\n",
      "There are 38 columns that have missing values.\n"
     ]
    },
    {
     "data": {
      "text/html": [
       "<div>\n",
       "<style scoped>\n",
       "    .dataframe tbody tr th:only-of-type {\n",
       "        vertical-align: middle;\n",
       "    }\n",
       "\n",
       "    .dataframe tbody tr th {\n",
       "        vertical-align: top;\n",
       "    }\n",
       "\n",
       "    .dataframe thead th {\n",
       "        text-align: right;\n",
       "    }\n",
       "</style>\n",
       "<table border=\"1\" class=\"dataframe\">\n",
       "  <thead>\n",
       "    <tr style=\"text-align: right;\">\n",
       "      <th></th>\n",
       "      <th>Missing Values</th>\n",
       "      <th>% of Total Values</th>\n",
       "    </tr>\n",
       "  </thead>\n",
       "  <tbody>\n",
       "    <tr>\n",
       "      <th>v2</th>\n",
       "      <td>1737136</td>\n",
       "      <td>95.7</td>\n",
       "    </tr>\n",
       "    <tr>\n",
       "      <th>v1</th>\n",
       "      <td>1091916</td>\n",
       "      <td>60.2</td>\n",
       "    </tr>\n",
       "    <tr>\n",
       "      <th>long</th>\n",
       "      <td>1013095</td>\n",
       "      <td>55.8</td>\n",
       "    </tr>\n",
       "    <tr>\n",
       "      <th>lat</th>\n",
       "      <td>1013085</td>\n",
       "      <td>55.8</td>\n",
       "    </tr>\n",
       "    <tr>\n",
       "      <th>gps</th>\n",
       "      <td>1007162</td>\n",
       "      <td>55.5</td>\n",
       "    </tr>\n",
       "    <tr>\n",
       "      <th>pr1</th>\n",
       "      <td>892223</td>\n",
       "      <td>49.1</td>\n",
       "    </tr>\n",
       "    <tr>\n",
       "      <th>pr</th>\n",
       "      <td>889725</td>\n",
       "      <td>49.0</td>\n",
       "    </tr>\n",
       "    <tr>\n",
       "      <th>adr</th>\n",
       "      <td>322766</td>\n",
       "      <td>17.8</td>\n",
       "    </tr>\n",
       "    <tr>\n",
       "      <th>voie</th>\n",
       "      <td>121608</td>\n",
       "      <td>6.7</td>\n",
       "    </tr>\n",
       "    <tr>\n",
       "      <th>place</th>\n",
       "      <td>96999</td>\n",
       "      <td>5.3</td>\n",
       "    </tr>\n",
       "    <tr>\n",
       "      <th>secu</th>\n",
       "      <td>41913</td>\n",
       "      <td>2.3</td>\n",
       "    </tr>\n",
       "    <tr>\n",
       "      <th>lartpc</th>\n",
       "      <td>21198</td>\n",
       "      <td>1.2</td>\n",
       "    </tr>\n",
       "    <tr>\n",
       "      <th>larrout</th>\n",
       "      <td>18246</td>\n",
       "      <td>1.0</td>\n",
       "    </tr>\n",
       "    <tr>\n",
       "      <th>nbv</th>\n",
       "      <td>3950</td>\n",
       "      <td>0.2</td>\n",
       "    </tr>\n",
       "    <tr>\n",
       "      <th>vosp</th>\n",
       "      <td>3723</td>\n",
       "      <td>0.2</td>\n",
       "    </tr>\n",
       "    <tr>\n",
       "      <th>env1</th>\n",
       "      <td>2870</td>\n",
       "      <td>0.2</td>\n",
       "    </tr>\n",
       "    <tr>\n",
       "      <th>infra</th>\n",
       "      <td>2857</td>\n",
       "      <td>0.2</td>\n",
       "    </tr>\n",
       "    <tr>\n",
       "      <th>plan</th>\n",
       "      <td>2403</td>\n",
       "      <td>0.1</td>\n",
       "    </tr>\n",
       "    <tr>\n",
       "      <th>prof</th>\n",
       "      <td>2362</td>\n",
       "      <td>0.1</td>\n",
       "    </tr>\n",
       "    <tr>\n",
       "      <th>surf</th>\n",
       "      <td>2273</td>\n",
       "      <td>0.1</td>\n",
       "    </tr>\n",
       "    <tr>\n",
       "      <th>situ</th>\n",
       "      <td>2246</td>\n",
       "      <td>0.1</td>\n",
       "    </tr>\n",
       "    <tr>\n",
       "      <th>an_nais</th>\n",
       "      <td>2240</td>\n",
       "      <td>0.1</td>\n",
       "    </tr>\n",
       "    <tr>\n",
       "      <th>actp</th>\n",
       "      <td>1767</td>\n",
       "      <td>0.1</td>\n",
       "    </tr>\n",
       "    <tr>\n",
       "      <th>circ</th>\n",
       "      <td>1749</td>\n",
       "      <td>0.1</td>\n",
       "    </tr>\n",
       "    <tr>\n",
       "      <th>etatp</th>\n",
       "      <td>1699</td>\n",
       "      <td>0.1</td>\n",
       "    </tr>\n",
       "    <tr>\n",
       "      <th>locp</th>\n",
       "      <td>1657</td>\n",
       "      <td>0.1</td>\n",
       "    </tr>\n",
       "    <tr>\n",
       "      <th>obs</th>\n",
       "      <td>793</td>\n",
       "      <td>0.0</td>\n",
       "    </tr>\n",
       "    <tr>\n",
       "      <th>obsm</th>\n",
       "      <td>680</td>\n",
       "      <td>0.0</td>\n",
       "    </tr>\n",
       "    <tr>\n",
       "      <th>trajet</th>\n",
       "      <td>365</td>\n",
       "      <td>0.0</td>\n",
       "    </tr>\n",
       "    <tr>\n",
       "      <th>manv</th>\n",
       "      <td>235</td>\n",
       "      <td>0.0</td>\n",
       "    </tr>\n",
       "    <tr>\n",
       "      <th>choc</th>\n",
       "      <td>137</td>\n",
       "      <td>0.0</td>\n",
       "    </tr>\n",
       "    <tr>\n",
       "      <th>senc</th>\n",
       "      <td>93</td>\n",
       "      <td>0.0</td>\n",
       "    </tr>\n",
       "    <tr>\n",
       "      <th>atm</th>\n",
       "      <td>39</td>\n",
       "      <td>0.0</td>\n",
       "    </tr>\n",
       "    <tr>\n",
       "      <th>col</th>\n",
       "      <td>6</td>\n",
       "      <td>0.0</td>\n",
       "    </tr>\n",
       "    <tr>\n",
       "      <th>com</th>\n",
       "      <td>6</td>\n",
       "      <td>0.0</td>\n",
       "    </tr>\n",
       "    <tr>\n",
       "      <th>catv</th>\n",
       "      <td>4</td>\n",
       "      <td>0.0</td>\n",
       "    </tr>\n",
       "    <tr>\n",
       "      <th>occutc</th>\n",
       "      <td>4</td>\n",
       "      <td>0.0</td>\n",
       "    </tr>\n",
       "    <tr>\n",
       "      <th>catr</th>\n",
       "      <td>2</td>\n",
       "      <td>0.0</td>\n",
       "    </tr>\n",
       "  </tbody>\n",
       "</table>\n",
       "</div>"
      ],
      "text/plain": [
       "         Missing Values  % of Total Values\n",
       "v2              1737136               95.7\n",
       "v1              1091916               60.2\n",
       "long            1013095               55.8\n",
       "lat             1013085               55.8\n",
       "gps             1007162               55.5\n",
       "pr1              892223               49.1\n",
       "pr               889725               49.0\n",
       "adr              322766               17.8\n",
       "voie             121608                6.7\n",
       "place             96999                5.3\n",
       "secu              41913                2.3\n",
       "lartpc            21198                1.2\n",
       "larrout           18246                1.0\n",
       "nbv                3950                0.2\n",
       "vosp               3723                0.2\n",
       "env1               2870                0.2\n",
       "infra              2857                0.2\n",
       "plan               2403                0.1\n",
       "prof               2362                0.1\n",
       "surf               2273                0.1\n",
       "situ               2246                0.1\n",
       "an_nais            2240                0.1\n",
       "actp               1767                0.1\n",
       "circ               1749                0.1\n",
       "etatp              1699                0.1\n",
       "locp               1657                0.1\n",
       "obs                 793                0.0\n",
       "obsm                680                0.0\n",
       "trajet              365                0.0\n",
       "manv                235                0.0\n",
       "choc                137                0.0\n",
       "senc                 93                0.0\n",
       "atm                  39                0.0\n",
       "col                   6                0.0\n",
       "com                   6                0.0\n",
       "catv                  4                0.0\n",
       "occutc                4                0.0\n",
       "catr                  2                0.0"
      ]
     },
     "execution_count": 6,
     "metadata": {},
     "output_type": "execute_result"
    }
   ],
   "source": [
    "missing_values_table(accidents)"
   ]
  },
  {
   "cell_type": "code",
   "execution_count": 7,
   "metadata": {},
   "outputs": [],
   "source": [
    "accidents = accidents.drop(['v1', 'v2', 'pr', 'pr1', 'lartpc', 'adr', 'voie','long','lat',\n",
    "                            'gps','locp', 'actp', 'etatp','larrout','env1','vosp','place',\n",
    "                            'manv','obsm','obs','senc'], axis=1)"
   ]
  },
  {
   "cell_type": "markdown",
   "metadata": {},
   "source": [
    "- Nous avons constaté que plus de 50% des valeurs de certaines variables sont manquantes, notamment pour les variables suivantes : 'v1', 'v2', 'long', 'lat', 'gps', 'pr', 'pr1'. Nous estimons que ces variables ne sont pas importantes pour notre étude et nous décidons de les ignorer.\n",
    "- En ce qui concerne les variables 'adr' et 'voie', qui décrivent les détails de l'adresse de l'accident, nous décidons de ne conserver que le code postal, qui nous semble plus pertinent.\n",
    "- La variable 'place' décrit l'endroit où se trouvait chaque passager dans l'automobile au moment de l'accident. Cependant, cette information est déjà couverte par la variable 'catu', nous décidons donc de supprimer 'place' pour éviter la redondance d'informations.\n",
    "- Les variables 'actp' et 'locp' décrivent les caractéristiques des piétons impliqués dans l'accident, mais comme la plupart de nos accidents ne concernent pas de piétons, ces variables sont trop détaillées et spécifiques pour être utiles.\n",
    "- Les variables 'larrout' et 'lartpc' ne sont pas très bien comprises.\n",
    "- La variable 'env1' décrit la proximité de l'accident par rapport à une école, mais dans la plupart de nos accidents, nous sommes loin des écoles, cette variable n'est donc pas pertinente.\n",
    "- La variable 'vosp' qui ndique l'existence d'une voie réservée, qu'il y ait eu un accident sur cette voie ou non est très spécifique.\n",
    "- Enfin, les variables 'manv', 'obsm', 'obs', 'senc' sont soit trop détaillées, soit pas assez bien comprises pour être utiles dans notre étude. Nous décidons donc de les ignorer."
   ]
  },
  {
   "cell_type": "markdown",
   "metadata": {},
   "source": [
    "Après avoir examiné plusieurs techniques pour traiter les valeurs manquantes (comme les supprimer ou les remplacer par la moyenne), nous avons décidé de les remplacer par la médiane dans chaque colonne correspondante. Cette approche consiste à fusionner les modalités \"0\" avec la modalité la plus fréquente."
   ]
  },
  {
   "cell_type": "code",
   "execution_count": 8,
   "metadata": {},
   "outputs": [],
   "source": [
    "# replace nan by mode\n",
    "for i in accidents.columns:\n",
    "    accidents[i].fillna(accidents[i].mode()[0], inplace=True)"
   ]
  },
  {
   "cell_type": "markdown",
   "metadata": {},
   "source": [
    "Au cours de cette étape de notre étude, nous avons estimé qu'il serait utile de fusionner et de renommer certaines modalités des variables qui nous intéressent, afin de mieux comprendre leur signification et de mieux interpréter les résultats de notre analyse. Cela nous permettra de progresser dans notre étude et d'en tirer des conclusions plus précises."
   ]
  },
  {
   "cell_type": "code",
   "execution_count": 9,
   "metadata": {},
   "outputs": [],
   "source": [
    "\n",
    "accidents['catv'] = accidents['catv'].replace([3,6,8,9,10,11,14,13,15,12,7], 'vehicule')\n",
    "accidents['catv'] = accidents['catv'].replace([16,21, 17], 'camion')\n",
    "accidents['catv'] = accidents['catv'].replace([18,19,38,39,37, 40], 'bus')\n",
    "accidents['catv'] = accidents['catv'].replace([2,30,31,32, 35,36,33, 34], '2roues')\n",
    "accidents['catv'] = accidents['catv'].replace([4,5, 1], 'velo')\n",
    "accidents['catv'] = accidents['catv'].replace([20,41,42,43,50,60,80,99], 'autre')\n",
    "\n",
    "accidents['int'] = accidents['int'].replace([3.0,4.0,5.0,6.0,7.0,8.0], 2.0)\n",
    "\n",
    "accidents['atm'] = accidents['atm'].replace([5.0,6.0,7.0,8.0, 9.0], \"autre\")\n",
    "accidents['atm'] = accidents['atm'].replace(1.0, \"normale\")\n",
    "accidents['atm'] = accidents['atm'].replace([2.0,3.0], \"pluie\")\n",
    "accidents['atm'] = accidents['atm'].replace(4.0, \"neige\")\n",
    "\n",
    "\n",
    "accidents['col'] = accidents['col'].replace(4.0, 5.0) #collision entre 2 véhicule\n",
    "accidents['col'] = accidents['col'].replace([1.0,2.0], 3.0) #collision entre 3 véhicules\n",
    "\n",
    "accidents['catr'] = accidents['catr'].replace([5.0,6.0,7.0, 9.0], \"autre\") #J'ai garder que 4 types de routes\n",
    "accidents['catr'] = accidents['catr'].replace(1.0, \"autoroute\")\n",
    "accidents['catr'] = accidents['catr'].replace(2.0, \"route nationale\")\n",
    "accidents['catr'] = accidents['catr'].replace(3.0, \"route départementale\")\n",
    "accidents['catr'] = accidents['catr'].replace(4.0, \"voie communale\")\n",
    "\n",
    "accidents['surf'] = accidents['surf'].replace([3.0,8.0], 2.0)\n",
    "accidents['surf'] = accidents['surf'].replace(5.0, 7.0)\n",
    "\n",
    "accidents['choc'] = accidents['choc'].replace(0.0, \"aucun\")\n",
    "accidents['choc'] = accidents['choc'].replace([2.0,3.0, 1.0], \"avant\")\n",
    "accidents['choc'] = accidents['choc'].replace([5.0,6.0, 4.0], \"arrière\")\n",
    "accidents['choc'] = accidents['choc'].replace(7.0, \"droit\")\n",
    "accidents['choc'] = accidents['choc'].replace(8.0, \"gauche\")\n",
    "accidents['choc'] = accidents['choc'].replace(9.0, \"chocs multiples\")\n",
    "\n",
    "accidents['sexe'] = accidents['sexe'].replace(1.0, \"masculin\")\n",
    "accidents['sexe'] = accidents['sexe'].replace(2.0, \"feminin\")\n",
    "\n",
    "accidents['lum'] = accidents['lum'].replace([0.0,1.0], \"plein jour\")\n",
    "accidents['lum'] = accidents['lum'].replace(2.0, \"aube\")\n",
    "accidents['lum'] = accidents['lum'].replace(3.0, \"nuit sans éclairage public\")\n",
    "accidents['lum'] = accidents['lum'].replace(4.0, \"nuit avec éclairage public non allumé\")\n",
    "accidents['lum'] = accidents['lum'].replace(5.0, \"nuit avec éclairage public allumé\")\n",
    "\n",
    "accidents['infra'] = accidents['infra'].replace(0.0, \"aucun\")\n",
    "accidents['infra'] = accidents['infra'].replace(1.0, \"tunnel\")\n",
    "accidents['infra'] = accidents['infra'].replace(2.0, \"pont\")\n",
    "accidents['infra'] = accidents['infra'].replace(3.0, \"bretelle\")\n",
    "accidents['infra'] = accidents['infra'].replace(4.0, \"voie ferrée\")\n",
    "accidents['infra'] = accidents['infra'].replace(5.0, \"carrefour aménagé\")\n",
    "accidents['infra'] = accidents['infra'].replace(6.0, \"zone pietonne\")\n",
    "accidents['infra'] = accidents['infra'].replace(7.0, \"zone de péage\")\n",
    "accidents['infra'] = accidents['infra'].replace(8.0, \"chantier\")\n",
    "accidents['infra'] = accidents['infra'].replace(9.0, \"autre\")\n",
    "                                                \n",
    "accidents['catu'] = accidents['catu'].replace([1.0,4.0], \"conducteur\")\n",
    "accidents['catu'] = accidents['catu'].replace(2.0, \"passager\")\n",
    "accidents['catu'] = accidents['catu'].replace(3.0, \"pieton\")\n",
    "\n",
    "accidents['prof'] = accidents['prof'].replace(1.0, \"plat\")\n",
    "accidents['prof'] = accidents['prof'].replace(2.0, \"pente\")\n",
    "accidents['prof'] = accidents['prof'].replace(3.0, \"sommet de côte\")\n",
    "accidents['prof'] = accidents['prof'].replace(4.0, \"bas de côte\")\n",
    "\n",
    "\n",
    "accidents = accidents[accidents.nbv <= 10]\n",
    "accidents = accidents.drop_duplicates()"
   ]
  },
  {
   "cell_type": "markdown",
   "metadata": {},
   "source": [
    "# One hot encoding"
   ]
  },
  {
   "cell_type": "code",
   "execution_count": 172,
   "metadata": {
    "scrolled": true
   },
   "outputs": [],
   "source": [
    "df_ohe = accidents.drop(['jour','hrmn','com','num_veh','dep','occutc', 'grav', 'trajet'], axis = 1)\n",
    "df_ohe['an'] = df_ohe['an']+2000\n",
    "df_ohe['age'] = df_ohe['an'] - df_ohe['an_nais']\n",
    "df_ohe\n",
    "Y= accidents['grav']"
   ]
  },
  {
   "cell_type": "code",
   "execution_count": 173,
   "metadata": {},
   "outputs": [],
   "source": [
    "conditions = [\n",
    "    ((df_ohe['age']>= 0) & (df_ohe['age']< 15)),\n",
    "    ((df_ohe['age']>= 15) & (df_ohe['age']< 18)),\n",
    "    ((df_ohe['age']>= 18) & (df_ohe['age']< 30)),\n",
    "    ((df_ohe['age']>= 30) & (df_ohe['age']< 50)),\n",
    "    ((df_ohe['age']>= 50) & (df_ohe['age']< 80)),\n",
    "    (df_ohe['age']>= 80),\n",
    "     ]\n",
    "values = ['0_to_15','15_to_18','18_to_30', '30_to_50', '50_to_80','>80']\n",
    "\n",
    " \n",
    "\n",
    "df_ohe['age_inter'] = np.select(conditions, values)\n",
    "\n",
    "df_ohe['agg']= df_ohe['agg'].replace(2,0)\n",
    "df_ohe['sexe']=df_ohe['sexe'].replace(2,0)"
   ]
  },
  {
   "cell_type": "code",
   "execution_count": 181,
   "metadata": {},
   "outputs": [
    {
     "data": {
      "text/html": [
       "<div>\n",
       "<style scoped>\n",
       "    .dataframe tbody tr th:only-of-type {\n",
       "        vertical-align: middle;\n",
       "    }\n",
       "\n",
       "    .dataframe tbody tr th {\n",
       "        vertical-align: top;\n",
       "    }\n",
       "\n",
       "    .dataframe thead th {\n",
       "        text-align: right;\n",
       "    }\n",
       "</style>\n",
       "<table border=\"1\" class=\"dataframe\">\n",
       "  <thead>\n",
       "    <tr style=\"text-align: right;\">\n",
       "      <th></th>\n",
       "      <th>catv_2roues</th>\n",
       "      <th>catv_autre</th>\n",
       "      <th>catv_bus</th>\n",
       "      <th>catv_tracteur</th>\n",
       "      <th>catv_vehicule</th>\n",
       "      <th>catv_velo</th>\n",
       "      <th>choc_0.0</th>\n",
       "      <th>choc_1.0</th>\n",
       "      <th>choc_4.0</th>\n",
       "      <th>choc_7.0</th>\n",
       "      <th>...</th>\n",
       "      <th>prof_1.0</th>\n",
       "      <th>prof_2.0</th>\n",
       "      <th>prof_3.0</th>\n",
       "      <th>prof_4.0</th>\n",
       "      <th>surf_1.0</th>\n",
       "      <th>surf_2.0</th>\n",
       "      <th>surf_4.0</th>\n",
       "      <th>surf_6.0</th>\n",
       "      <th>surf_7.0</th>\n",
       "      <th>surf_9.0</th>\n",
       "    </tr>\n",
       "  </thead>\n",
       "  <tbody>\n",
       "    <tr>\n",
       "      <th>0</th>\n",
       "      <td>0</td>\n",
       "      <td>0</td>\n",
       "      <td>0</td>\n",
       "      <td>0</td>\n",
       "      <td>1</td>\n",
       "      <td>0</td>\n",
       "      <td>0</td>\n",
       "      <td>1</td>\n",
       "      <td>0</td>\n",
       "      <td>0</td>\n",
       "      <td>...</td>\n",
       "      <td>1</td>\n",
       "      <td>0</td>\n",
       "      <td>0</td>\n",
       "      <td>0</td>\n",
       "      <td>1</td>\n",
       "      <td>0</td>\n",
       "      <td>0</td>\n",
       "      <td>0</td>\n",
       "      <td>0</td>\n",
       "      <td>0</td>\n",
       "    </tr>\n",
       "    <tr>\n",
       "      <th>1</th>\n",
       "      <td>1</td>\n",
       "      <td>0</td>\n",
       "      <td>0</td>\n",
       "      <td>0</td>\n",
       "      <td>0</td>\n",
       "      <td>0</td>\n",
       "      <td>0</td>\n",
       "      <td>0</td>\n",
       "      <td>0</td>\n",
       "      <td>1</td>\n",
       "      <td>...</td>\n",
       "      <td>1</td>\n",
       "      <td>0</td>\n",
       "      <td>0</td>\n",
       "      <td>0</td>\n",
       "      <td>1</td>\n",
       "      <td>0</td>\n",
       "      <td>0</td>\n",
       "      <td>0</td>\n",
       "      <td>0</td>\n",
       "      <td>0</td>\n",
       "    </tr>\n",
       "    <tr>\n",
       "      <th>2</th>\n",
       "      <td>0</td>\n",
       "      <td>0</td>\n",
       "      <td>0</td>\n",
       "      <td>0</td>\n",
       "      <td>1</td>\n",
       "      <td>0</td>\n",
       "      <td>0</td>\n",
       "      <td>1</td>\n",
       "      <td>0</td>\n",
       "      <td>0</td>\n",
       "      <td>...</td>\n",
       "      <td>1</td>\n",
       "      <td>0</td>\n",
       "      <td>0</td>\n",
       "      <td>0</td>\n",
       "      <td>1</td>\n",
       "      <td>0</td>\n",
       "      <td>0</td>\n",
       "      <td>0</td>\n",
       "      <td>0</td>\n",
       "      <td>0</td>\n",
       "    </tr>\n",
       "    <tr>\n",
       "      <th>3</th>\n",
       "      <td>0</td>\n",
       "      <td>0</td>\n",
       "      <td>0</td>\n",
       "      <td>0</td>\n",
       "      <td>1</td>\n",
       "      <td>0</td>\n",
       "      <td>0</td>\n",
       "      <td>1</td>\n",
       "      <td>0</td>\n",
       "      <td>0</td>\n",
       "      <td>...</td>\n",
       "      <td>1</td>\n",
       "      <td>0</td>\n",
       "      <td>0</td>\n",
       "      <td>0</td>\n",
       "      <td>1</td>\n",
       "      <td>0</td>\n",
       "      <td>0</td>\n",
       "      <td>0</td>\n",
       "      <td>0</td>\n",
       "      <td>0</td>\n",
       "    </tr>\n",
       "    <tr>\n",
       "      <th>4</th>\n",
       "      <td>0</td>\n",
       "      <td>0</td>\n",
       "      <td>0</td>\n",
       "      <td>0</td>\n",
       "      <td>1</td>\n",
       "      <td>0</td>\n",
       "      <td>0</td>\n",
       "      <td>1</td>\n",
       "      <td>0</td>\n",
       "      <td>0</td>\n",
       "      <td>...</td>\n",
       "      <td>1</td>\n",
       "      <td>0</td>\n",
       "      <td>0</td>\n",
       "      <td>0</td>\n",
       "      <td>1</td>\n",
       "      <td>0</td>\n",
       "      <td>0</td>\n",
       "      <td>0</td>\n",
       "      <td>0</td>\n",
       "      <td>0</td>\n",
       "    </tr>\n",
       "    <tr>\n",
       "      <th>...</th>\n",
       "      <td>...</td>\n",
       "      <td>...</td>\n",
       "      <td>...</td>\n",
       "      <td>...</td>\n",
       "      <td>...</td>\n",
       "      <td>...</td>\n",
       "      <td>...</td>\n",
       "      <td>...</td>\n",
       "      <td>...</td>\n",
       "      <td>...</td>\n",
       "      <td>...</td>\n",
       "      <td>...</td>\n",
       "      <td>...</td>\n",
       "      <td>...</td>\n",
       "      <td>...</td>\n",
       "      <td>...</td>\n",
       "      <td>...</td>\n",
       "      <td>...</td>\n",
       "      <td>...</td>\n",
       "      <td>...</td>\n",
       "      <td>...</td>\n",
       "    </tr>\n",
       "    <tr>\n",
       "      <th>1815316</th>\n",
       "      <td>0</td>\n",
       "      <td>0</td>\n",
       "      <td>0</td>\n",
       "      <td>0</td>\n",
       "      <td>1</td>\n",
       "      <td>0</td>\n",
       "      <td>0</td>\n",
       "      <td>0</td>\n",
       "      <td>1</td>\n",
       "      <td>0</td>\n",
       "      <td>...</td>\n",
       "      <td>0</td>\n",
       "      <td>1</td>\n",
       "      <td>0</td>\n",
       "      <td>0</td>\n",
       "      <td>1</td>\n",
       "      <td>0</td>\n",
       "      <td>0</td>\n",
       "      <td>0</td>\n",
       "      <td>0</td>\n",
       "      <td>0</td>\n",
       "    </tr>\n",
       "    <tr>\n",
       "      <th>1815317</th>\n",
       "      <td>0</td>\n",
       "      <td>0</td>\n",
       "      <td>0</td>\n",
       "      <td>0</td>\n",
       "      <td>1</td>\n",
       "      <td>0</td>\n",
       "      <td>0</td>\n",
       "      <td>1</td>\n",
       "      <td>0</td>\n",
       "      <td>0</td>\n",
       "      <td>...</td>\n",
       "      <td>0</td>\n",
       "      <td>1</td>\n",
       "      <td>0</td>\n",
       "      <td>0</td>\n",
       "      <td>1</td>\n",
       "      <td>0</td>\n",
       "      <td>0</td>\n",
       "      <td>0</td>\n",
       "      <td>0</td>\n",
       "      <td>0</td>\n",
       "    </tr>\n",
       "    <tr>\n",
       "      <th>1815318</th>\n",
       "      <td>0</td>\n",
       "      <td>0</td>\n",
       "      <td>0</td>\n",
       "      <td>0</td>\n",
       "      <td>1</td>\n",
       "      <td>0</td>\n",
       "      <td>0</td>\n",
       "      <td>1</td>\n",
       "      <td>0</td>\n",
       "      <td>0</td>\n",
       "      <td>...</td>\n",
       "      <td>0</td>\n",
       "      <td>1</td>\n",
       "      <td>0</td>\n",
       "      <td>0</td>\n",
       "      <td>1</td>\n",
       "      <td>0</td>\n",
       "      <td>0</td>\n",
       "      <td>0</td>\n",
       "      <td>0</td>\n",
       "      <td>0</td>\n",
       "    </tr>\n",
       "    <tr>\n",
       "      <th>1815319</th>\n",
       "      <td>0</td>\n",
       "      <td>0</td>\n",
       "      <td>0</td>\n",
       "      <td>0</td>\n",
       "      <td>1</td>\n",
       "      <td>0</td>\n",
       "      <td>0</td>\n",
       "      <td>1</td>\n",
       "      <td>0</td>\n",
       "      <td>0</td>\n",
       "      <td>...</td>\n",
       "      <td>0</td>\n",
       "      <td>1</td>\n",
       "      <td>0</td>\n",
       "      <td>0</td>\n",
       "      <td>1</td>\n",
       "      <td>0</td>\n",
       "      <td>0</td>\n",
       "      <td>0</td>\n",
       "      <td>0</td>\n",
       "      <td>0</td>\n",
       "    </tr>\n",
       "    <tr>\n",
       "      <th>1815320</th>\n",
       "      <td>0</td>\n",
       "      <td>0</td>\n",
       "      <td>0</td>\n",
       "      <td>0</td>\n",
       "      <td>1</td>\n",
       "      <td>0</td>\n",
       "      <td>0</td>\n",
       "      <td>1</td>\n",
       "      <td>0</td>\n",
       "      <td>0</td>\n",
       "      <td>...</td>\n",
       "      <td>0</td>\n",
       "      <td>1</td>\n",
       "      <td>0</td>\n",
       "      <td>0</td>\n",
       "      <td>1</td>\n",
       "      <td>0</td>\n",
       "      <td>0</td>\n",
       "      <td>0</td>\n",
       "      <td>0</td>\n",
       "      <td>0</td>\n",
       "    </tr>\n",
       "  </tbody>\n",
       "</table>\n",
       "<p>1808418 rows × 42 columns</p>\n",
       "</div>"
      ],
      "text/plain": [
       "         catv_2roues  catv_autre  catv_bus  catv_tracteur  catv_vehicule  \\\n",
       "0                  0           0         0              0              1   \n",
       "1                  1           0         0              0              0   \n",
       "2                  0           0         0              0              1   \n",
       "3                  0           0         0              0              1   \n",
       "4                  0           0         0              0              1   \n",
       "...              ...         ...       ...            ...            ...   \n",
       "1815316            0           0         0              0              1   \n",
       "1815317            0           0         0              0              1   \n",
       "1815318            0           0         0              0              1   \n",
       "1815319            0           0         0              0              1   \n",
       "1815320            0           0         0              0              1   \n",
       "\n",
       "         catv_velo  choc_0.0  choc_1.0  choc_4.0  choc_7.0  ...  prof_1.0  \\\n",
       "0                0         0         1         0         0  ...         1   \n",
       "1                0         0         0         0         1  ...         1   \n",
       "2                0         0         1         0         0  ...         1   \n",
       "3                0         0         1         0         0  ...         1   \n",
       "4                0         0         1         0         0  ...         1   \n",
       "...            ...       ...       ...       ...       ...  ...       ...   \n",
       "1815316          0         0         0         1         0  ...         0   \n",
       "1815317          0         0         1         0         0  ...         0   \n",
       "1815318          0         0         1         0         0  ...         0   \n",
       "1815319          0         0         1         0         0  ...         0   \n",
       "1815320          0         0         1         0         0  ...         0   \n",
       "\n",
       "         prof_2.0  prof_3.0  prof_4.0  surf_1.0  surf_2.0  surf_4.0  surf_6.0  \\\n",
       "0               0         0         0         1         0         0         0   \n",
       "1               0         0         0         1         0         0         0   \n",
       "2               0         0         0         1         0         0         0   \n",
       "3               0         0         0         1         0         0         0   \n",
       "4               0         0         0         1         0         0         0   \n",
       "...           ...       ...       ...       ...       ...       ...       ...   \n",
       "1815316         1         0         0         1         0         0         0   \n",
       "1815317         1         0         0         1         0         0         0   \n",
       "1815318         1         0         0         1         0         0         0   \n",
       "1815319         1         0         0         1         0         0         0   \n",
       "1815320         1         0         0         1         0         0         0   \n",
       "\n",
       "         surf_7.0  surf_9.0  \n",
       "0               0         0  \n",
       "1               0         0  \n",
       "2               0         0  \n",
       "3               0         0  \n",
       "4               0         0  \n",
       "...           ...       ...  \n",
       "1815316         0         0  \n",
       "1815317         0         0  \n",
       "1815318         0         0  \n",
       "1815319         0         0  \n",
       "1815320         0         0  \n",
       "\n",
       "[1808418 rows x 42 columns]"
      ]
     },
     "execution_count": 181,
     "metadata": {},
     "output_type": "execute_result"
    }
   ],
   "source": [
    "selected_columns = ['catv', 'choc', 'catu', 'sexe', 'lum', 'atm', 'catr', 'prof', 'surf']\n",
    "\n",
    "#dropper secu, mois, an, situ (situation de l'accident, je vois pas trop l'interêt de la variable)\n",
    "#choc, peut-on réduire les modalités?\n",
    "\n",
    "accidents_ohe = pd.get_dummies(df_ohe, columns =selected_columns)\n",
    "accidents_ohe = accidents_ohe.drop(['Num_Acc','secu','an','mois','int','col','circ','nbv','plan','situ', 'an_nais','age','infra','agg','age_inter'], axis = 1)\n",
    "accidents_ohe"
   ]
  },
  {
   "cell_type": "code",
   "execution_count": 182,
   "metadata": {},
   "outputs": [],
   "source": [
    "from sklearn.decomposition import PCA\n",
    "from sklearn.preprocessing import MinMaxScaler\n",
    "\n",
    "#scaler = MinMaxScaler()\n",
    "#data_rescaled = scaler.fit_transform(accidents_ohe)\n",
    "#data_rescaled\n",
    "\n",
    "\n",
    "pca = PCA(0.95)\n",
    "reduced = pca.fit_transform(accidents_ohe)\n",
    "\n",
    "reduced = pd.DataFrame(reduced)"
   ]
  },
  {
   "cell_type": "code",
   "execution_count": 183,
   "metadata": {},
   "outputs": [
    {
     "data": {
      "image/png": "[encoded data removed]",
      "text/plain": [
       "<Figure size 432x288 with 1 Axes>"
      ]
     },
     "metadata": {
      "needs_background": "light"
     },
     "output_type": "display_data"
    }
   ],
   "source": [
    "plt.bar(range(len(pca.explained_variance_ratio_)), pca.explained_variance_ratio_)\n",
    "plt.xticks(range(len(pca.explained_variance_ratio_)), list(range(1, len(pca.explained_variance_ratio_)+1)))\n",
    "plt.xlabel('Principal Component')\n",
    "plt.ylabel('Explained Variance')\n",
    "plt.title('PCA Explained Variance by Component')\n",
    "plt.show()\n",
    "#On garde les 3 premiers axes (50% de variance)"
   ]
  },
  {
   "cell_type": "code",
   "execution_count": 184,
   "metadata": {},
   "outputs": [
    {
     "data": {
      "image/png": "[encoded data removed]",
      "text/plain": [
       "<Figure size 720x432 with 1 Axes>"
      ]
     },
     "metadata": {
      "needs_background": "light"
     },
     "output_type": "display_data"
    }
   ],
   "source": [
    "contrib = pca.components_[0]\n",
    "\n",
    "\n",
    "feature_names = list(accidents_ohe.columns)\n",
    "\n",
    "# Zip the feature names and contributions together and sort in descending order by contribution\n",
    "sorted_contrib = sorted(zip(feature_names, contrib), key=lambda x: x[1], reverse=True)\n",
    "\n",
    "# Select the top 10 contributions\n",
    "top_10 = sorted_contrib[:10]\n",
    "\n",
    "# Unzip the top 10 feature names and contributions\n",
    "feature_names, contrib = zip(*top_10)\n",
    "\n",
    "# Set the figure size\n",
    "plt.figure(figsize=(10, 6))\n",
    "\n",
    "# Plot the contribution of the first principal component\n",
    "plt.bar(feature_names, contrib, alpha=0.5)\n",
    "\n",
    "# Add labels and title\n",
    "plt.xlabel(\"Features\")\n",
    "plt.ylabel(\"Contribution\")\n",
    "plt.title(\"Top 10 Contributing Features for First Principal Component\")\n",
    "\n",
    "# Show the plot\n",
    "plt.show()\n"
   ]
  },
  {
   "cell_type": "code",
   "execution_count": 185,
   "metadata": {},
   "outputs": [
    {
     "data": {
      "image/png": "[encoded data removed]",
      "text/plain": [
       "<Figure size 720x432 with 1 Axes>"
      ]
     },
     "metadata": {
      "needs_background": "light"
     },
     "output_type": "display_data"
    }
   ],
   "source": [
    "contrib = pca.components_[1]\n",
    "\n",
    "feature_names = list(accidents_ohe.columns)\n",
    "\n",
    "# Zip the feature names and contributions together and sort in descending order by contribution\n",
    "sorted_contrib = sorted(zip(feature_names, contrib), key=lambda x: x[1], reverse=True)\n",
    "\n",
    "# Select the top 10 contributions\n",
    "top_10 = sorted_contrib[:10]\n",
    "\n",
    "# Unzip the top 10 feature names and contributions\n",
    "feature_names, contrib = zip(*top_10)\n",
    "\n",
    "# Set the figure size\n",
    "plt.figure(figsize=(10, 6))\n",
    "\n",
    "# Plot the contribution of the second principal component\n",
    "plt.bar(feature_names, contrib, alpha=0.5)\n",
    "\n",
    "# Add labels and title\n",
    "plt.xlabel(\"Features\")\n",
    "plt.ylabel(\"Contribution\")\n",
    "plt.title(\"Top 10 Contributing Features for 2nd Principal Component\")\n",
    "\n",
    "# Show the plot\n",
    "plt.show()\n"
   ]
  },
  {
   "cell_type": "code",
   "execution_count": 186,
   "metadata": {
    "scrolled": false
   },
   "outputs": [
    {
     "data": {
      "image/png": "[encoded data removed]",
      "text/plain": [
       "<Figure size 720x432 with 1 Axes>"
      ]
     },
     "metadata": {
      "needs_background": "light"
     },
     "output_type": "display_data"
    }
   ],
   "source": [
    "contrib = pca.components_[2]\n",
    "\n",
    "feature_names = list(accidents_ohe.columns)\n",
    "\n",
    "# Zip the feature names and contributions together and sort in descending order by contribution\n",
    "sorted_contrib = sorted(zip(feature_names, contrib), key=lambda x: x[1], reverse=True)\n",
    "\n",
    "# Select the top 10 contributions\n",
    "top_10 = sorted_contrib[:10]\n",
    "\n",
    "# Unzip the top 10 feature names and contributions\n",
    "feature_names, contrib = zip(*top_10)\n",
    "\n",
    "# Set the figure size\n",
    "plt.figure(figsize=(10, 6))\n",
    "\n",
    "# Plot the contribution of the 3rd principal component\n",
    "plt.bar(feature_names, contrib, alpha=0.5)\n",
    "\n",
    "# Add labels and title\n",
    "plt.xlabel(\"Features\")\n",
    "plt.ylabel(\"Contribution\")\n",
    "plt.title(\"Top 10 Contributing Features for 3rd Principal Component\")\n",
    "\n",
    "# Show the plot\n",
    "plt.show()\n"
   ]
  },
  {
   "cell_type": "markdown",
   "metadata": {},
   "source": [
    "# Kmeans"
   ]
  },
  {
   "cell_type": "code",
   "execution_count": 188,
   "metadata": {},
   "outputs": [],
   "source": [
    "inertias = []\n",
    "k_range = range(1, 11)\n",
    "for k in k_range:\n",
    "    kmeans = KMeans(n_clusters=k)\n",
    "    kmeans.fit(X_train)\n",
    "    inertias.append(kmeans.inertia_)"
   ]
  },
  {
   "cell_type": "code",
   "execution_count": 189,
   "metadata": {},
   "outputs": [
    {
     "data": {
      "image/png": "[encoded data removed]",
      "text/plain": [
       "<Figure size 432x288 with 1 Axes>"
      ]
     },
     "metadata": {
      "needs_background": "light"
     },
     "output_type": "display_data"
    }
   ],
   "source": [
    "import matplotlib.pyplot as plt\n",
    "\n",
    "\n",
    "# Plot the inertias as a line plot\n",
    "plt.plot(range(1,11), inertias)\n",
    "\n",
    "# Add labels to the plot\n",
    "plt.xlabel('k')\n",
    "plt.ylabel('Inertia')\n",
    "\n",
    "# Show the plot\n",
    "plt.show()\n",
    "\n",
    "#On peut choisir entre 2 et 4 pour notre nombre de clusters"
   ]
  },
  {
   "cell_type": "code",
   "execution_count": 190,
   "metadata": {},
   "outputs": [],
   "source": [
    "\n",
    "reduced = reduced.iloc[:, :3]\n",
    "\n",
    "reduced_2c = KMeans(n_clusters = 2).fit(reduced)\n",
    "reduced_3c = KMeans(n_clusters = 3).fit(reduced)\n",
    "reduced_4c = KMeans(n_clusters = 4).fit(reduced)\n",
    "\n",
    "reduced_4c.n_clusters\n",
    "\n",
    "two_clusters = KMeans(n_clusters = 2)\n",
    "three_clusters = KMeans(n_clusters = 3)\n",
    "four_clusters = KMeans(n_clusters = 4)\n",
    "\n",
    "two_clusters.fit(reduced)\n",
    "three_clusters.fit(reduced)\n",
    "four_clusters.fit(reduced)\n",
    "\n",
    "\n",
    "labels_2c = two_clusters.predict(reduced)\n",
    "labels_3c = three_clusters.predict(reduced)\n",
    "labels_4c = four_clusters.predict(reduced)"
   ]
  },
  {
   "cell_type": "code",
   "execution_count": 191,
   "metadata": {},
   "outputs": [],
   "source": [
    "\n",
    "x = reduced.values[:, 0]\n",
    "y = reduced.values[:, 1]\n",
    "z = reduced.values[:, 2]\n",
    "\n"
   ]
  },
  {
   "cell_type": "code",
   "execution_count": 192,
   "metadata": {},
   "outputs": [],
   "source": [
    "df_3cluster = pd.DataFrame([x,y,z,labels_3c]).T.rename(columns={0: 'dim1',1:'dim2',2:'dim3',3:'cluster'})"
   ]
  },
  {
   "cell_type": "code",
   "execution_count": 193,
   "metadata": {},
   "outputs": [
    {
     "data": {
      "text/html": [
       "<div>\n",
       "<style scoped>\n",
       "    .dataframe tbody tr th:only-of-type {\n",
       "        vertical-align: middle;\n",
       "    }\n",
       "\n",
       "    .dataframe tbody tr th {\n",
       "        vertical-align: top;\n",
       "    }\n",
       "\n",
       "    .dataframe thead th {\n",
       "        text-align: right;\n",
       "    }\n",
       "</style>\n",
       "<table border=\"1\" class=\"dataframe\">\n",
       "  <thead>\n",
       "    <tr style=\"text-align: right;\">\n",
       "      <th></th>\n",
       "      <th>dim1</th>\n",
       "      <th>dim2</th>\n",
       "      <th>dim3</th>\n",
       "      <th>cluster</th>\n",
       "    </tr>\n",
       "  </thead>\n",
       "  <tbody>\n",
       "    <tr>\n",
       "      <th>0</th>\n",
       "      <td>0.935766</td>\n",
       "      <td>-0.085895</td>\n",
       "      <td>-0.550819</td>\n",
       "      <td>1.0</td>\n",
       "    </tr>\n",
       "    <tr>\n",
       "      <th>1</th>\n",
       "      <td>-0.612155</td>\n",
       "      <td>0.548084</td>\n",
       "      <td>-0.607805</td>\n",
       "      <td>0.0</td>\n",
       "    </tr>\n",
       "    <tr>\n",
       "      <th>2</th>\n",
       "      <td>-0.310913</td>\n",
       "      <td>0.056969</td>\n",
       "      <td>-0.984038</td>\n",
       "      <td>0.0</td>\n",
       "    </tr>\n",
       "    <tr>\n",
       "      <th>3</th>\n",
       "      <td>0.193393</td>\n",
       "      <td>-0.120906</td>\n",
       "      <td>-1.027270</td>\n",
       "      <td>0.0</td>\n",
       "    </tr>\n",
       "    <tr>\n",
       "      <th>4</th>\n",
       "      <td>1.185788</td>\n",
       "      <td>-0.757425</td>\n",
       "      <td>-0.760481</td>\n",
       "      <td>1.0</td>\n",
       "    </tr>\n",
       "    <tr>\n",
       "      <th>...</th>\n",
       "      <td>...</td>\n",
       "      <td>...</td>\n",
       "      <td>...</td>\n",
       "      <td>...</td>\n",
       "    </tr>\n",
       "    <tr>\n",
       "      <th>1808413</th>\n",
       "      <td>-0.177032</td>\n",
       "      <td>0.280394</td>\n",
       "      <td>-0.588425</td>\n",
       "      <td>0.0</td>\n",
       "    </tr>\n",
       "    <tr>\n",
       "      <th>1808414</th>\n",
       "      <td>0.757425</td>\n",
       "      <td>-0.249183</td>\n",
       "      <td>-0.331035</td>\n",
       "      <td>1.0</td>\n",
       "    </tr>\n",
       "    <tr>\n",
       "      <th>1808415</th>\n",
       "      <td>1.261731</td>\n",
       "      <td>-0.427058</td>\n",
       "      <td>-0.374267</td>\n",
       "      <td>1.0</td>\n",
       "    </tr>\n",
       "    <tr>\n",
       "      <th>1808416</th>\n",
       "      <td>1.261731</td>\n",
       "      <td>-0.427058</td>\n",
       "      <td>-0.374267</td>\n",
       "      <td>1.0</td>\n",
       "    </tr>\n",
       "    <tr>\n",
       "      <th>1808417</th>\n",
       "      <td>1.261731</td>\n",
       "      <td>-0.427058</td>\n",
       "      <td>-0.374267</td>\n",
       "      <td>1.0</td>\n",
       "    </tr>\n",
       "  </tbody>\n",
       "</table>\n",
       "<p>1808418 rows × 4 columns</p>\n",
       "</div>"
      ],
      "text/plain": [
       "             dim1      dim2      dim3  cluster\n",
       "0        0.935766 -0.085895 -0.550819      1.0\n",
       "1       -0.612155  0.548084 -0.607805      0.0\n",
       "2       -0.310913  0.056969 -0.984038      0.0\n",
       "3        0.193393 -0.120906 -1.027270      0.0\n",
       "4        1.185788 -0.757425 -0.760481      1.0\n",
       "...           ...       ...       ...      ...\n",
       "1808413 -0.177032  0.280394 -0.588425      0.0\n",
       "1808414  0.757425 -0.249183 -0.331035      1.0\n",
       "1808415  1.261731 -0.427058 -0.374267      1.0\n",
       "1808416  1.261731 -0.427058 -0.374267      1.0\n",
       "1808417  1.261731 -0.427058 -0.374267      1.0\n",
       "\n",
       "[1808418 rows x 4 columns]"
      ]
     },
     "execution_count": 193,
     "metadata": {},
     "output_type": "execute_result"
    }
   ],
   "source": [
    "df_3cluster"
   ]
  },
  {
   "cell_type": "code",
   "execution_count": 194,
   "metadata": {},
   "outputs": [
    {
     "data": {
      "text/plain": [
       "[]"
      ]
     },
     "execution_count": 194,
     "metadata": {},
     "output_type": "execute_result"
    },
    {
     "data": {
      "image/png": "[encoded data removed]",
      "text/plain": [
       "<Figure size 432x288 with 1 Axes>"
      ]
     },
     "metadata": {
      "needs_background": "light"
     },
     "output_type": "display_data"
    }
   ],
   "source": [
    "plt.figure()\n",
    "\n",
    "plt.scatter(df_3cluster['dim1'],df_3cluster['dim2'],c = df_3cluster['cluster'], label=df_3cluster['cluster'])\n",
    "plt.title(\"Représentation des clusters en fonction des composantes principales\")\n",
    "plt.xlabel(\"PC1\")\n",
    "plt.ylabel(\"PC2\")\n",
    "plt.plot()\n",
    "\n"
   ]
  },
  {
   "cell_type": "code",
   "execution_count": 195,
   "metadata": {},
   "outputs": [
    {
     "data": {
      "text/plain": [
       "[]"
      ]
     },
     "execution_count": 195,
     "metadata": {},
     "output_type": "execute_result"
    },
    {
     "data": {
      "image/png": "[encoded data removed]",
      "text/plain": [
       "<Figure size 432x288 with 1 Axes>"
      ]
     },
     "metadata": {
      "needs_background": "light"
     },
     "output_type": "display_data"
    }
   ],
   "source": [
    "plt.figure()\n",
    "\n",
    "plt.scatter(df_3cluster['dim1'],df_3cluster['dim3'],c = df_3cluster['cluster'], label='Clusters')\n",
    "plt.legend()\n",
    "plt.title(\"Représentation des clusters en fonction des composantes principales\")\n",
    "plt.xlabel(\"PC1\")\n",
    "plt.ylabel(\"PC3\")\n",
    "plt.plot()\n",
    "\n"
   ]
  },
  {
   "cell_type": "code",
   "execution_count": 196,
   "metadata": {},
   "outputs": [
    {
     "data": {
      "text/plain": [
       "[]"
      ]
     },
     "execution_count": 196,
     "metadata": {},
     "output_type": "execute_result"
    },
    {
     "data": {
      "image/png": "[encoded data removed]",
      "text/plain": [
       "<Figure size 432x288 with 1 Axes>"
      ]
     },
     "metadata": {
      "needs_background": "light"
     },
     "output_type": "display_data"
    }
   ],
   "source": [
    "plt.figure()\n",
    "\n",
    "plt.scatter(df_3cluster['dim2'],df_3cluster['dim3'],c = df_3cluster['cluster'], label='Clusters')\n",
    "plt.legend()\n",
    "plt.title(\"Représentation des clusters en fonction des composantes principales\")\n",
    "plt.xlabel(\"PC2\")\n",
    "plt.ylabel(\"PC3\")\n",
    "plt.plot()"
   ]
  },
  {
   "cell_type": "code",
   "execution_count": 197,
   "metadata": {},
   "outputs": [],
   "source": [
    "accidents = accidents.reset_index().drop(\"index\", axis=1)"
   ]
  },
  {
   "cell_type": "code",
   "execution_count": 198,
   "metadata": {},
   "outputs": [],
   "source": [
    "accidents[\"cluster\"] = df_3cluster[\"cluster\"]"
   ]
  },
  {
   "cell_type": "code",
   "execution_count": 199,
   "metadata": {},
   "outputs": [
    {
     "data": {
      "text/html": [
       "<div>\n",
       "<style scoped>\n",
       "    .dataframe tbody tr th:only-of-type {\n",
       "        vertical-align: middle;\n",
       "    }\n",
       "\n",
       "    .dataframe tbody tr th {\n",
       "        vertical-align: top;\n",
       "    }\n",
       "\n",
       "    .dataframe thead th {\n",
       "        text-align: right;\n",
       "    }\n",
       "</style>\n",
       "<table border=\"1\" class=\"dataframe\">\n",
       "  <thead>\n",
       "    <tr style=\"text-align: right;\">\n",
       "      <th></th>\n",
       "      <th>Num_Acc</th>\n",
       "      <th>an</th>\n",
       "      <th>mois</th>\n",
       "      <th>jour</th>\n",
       "      <th>hrmn</th>\n",
       "      <th>lum</th>\n",
       "      <th>agg</th>\n",
       "      <th>int</th>\n",
       "      <th>atm</th>\n",
       "      <th>col</th>\n",
       "      <th>...</th>\n",
       "      <th>nbv</th>\n",
       "      <th>prof</th>\n",
       "      <th>plan</th>\n",
       "      <th>surf</th>\n",
       "      <th>infra</th>\n",
       "      <th>situ</th>\n",
       "      <th>catv</th>\n",
       "      <th>occutc</th>\n",
       "      <th>choc</th>\n",
       "      <th>cluster</th>\n",
       "    </tr>\n",
       "  </thead>\n",
       "  <tbody>\n",
       "    <tr>\n",
       "      <th>0</th>\n",
       "      <td>201600000001</td>\n",
       "      <td>16</td>\n",
       "      <td>2</td>\n",
       "      <td>1</td>\n",
       "      <td>1445</td>\n",
       "      <td>1</td>\n",
       "      <td>2</td>\n",
       "      <td>1</td>\n",
       "      <td>9.0</td>\n",
       "      <td>3.0</td>\n",
       "      <td>...</td>\n",
       "      <td>0.0</td>\n",
       "      <td>1.0</td>\n",
       "      <td>3.0</td>\n",
       "      <td>1.0</td>\n",
       "      <td>0.0</td>\n",
       "      <td>1.0</td>\n",
       "      <td>vehicule</td>\n",
       "      <td>0.0</td>\n",
       "      <td>1.0</td>\n",
       "      <td>1.0</td>\n",
       "    </tr>\n",
       "    <tr>\n",
       "      <th>1</th>\n",
       "      <td>201600000001</td>\n",
       "      <td>16</td>\n",
       "      <td>2</td>\n",
       "      <td>1</td>\n",
       "      <td>1445</td>\n",
       "      <td>1</td>\n",
       "      <td>2</td>\n",
       "      <td>1</td>\n",
       "      <td>9.0</td>\n",
       "      <td>3.0</td>\n",
       "      <td>...</td>\n",
       "      <td>0.0</td>\n",
       "      <td>1.0</td>\n",
       "      <td>3.0</td>\n",
       "      <td>1.0</td>\n",
       "      <td>0.0</td>\n",
       "      <td>1.0</td>\n",
       "      <td>2roues</td>\n",
       "      <td>0.0</td>\n",
       "      <td>7.0</td>\n",
       "      <td>0.0</td>\n",
       "    </tr>\n",
       "    <tr>\n",
       "      <th>2</th>\n",
       "      <td>201600000002</td>\n",
       "      <td>16</td>\n",
       "      <td>3</td>\n",
       "      <td>16</td>\n",
       "      <td>1800</td>\n",
       "      <td>1</td>\n",
       "      <td>2</td>\n",
       "      <td>2</td>\n",
       "      <td>1.0</td>\n",
       "      <td>6.0</td>\n",
       "      <td>...</td>\n",
       "      <td>0.0</td>\n",
       "      <td>1.0</td>\n",
       "      <td>2.0</td>\n",
       "      <td>1.0</td>\n",
       "      <td>0.0</td>\n",
       "      <td>1.0</td>\n",
       "      <td>vehicule</td>\n",
       "      <td>0.0</td>\n",
       "      <td>1.0</td>\n",
       "      <td>0.0</td>\n",
       "    </tr>\n",
       "    <tr>\n",
       "      <th>3</th>\n",
       "      <td>201600000002</td>\n",
       "      <td>16</td>\n",
       "      <td>3</td>\n",
       "      <td>16</td>\n",
       "      <td>1800</td>\n",
       "      <td>1</td>\n",
       "      <td>2</td>\n",
       "      <td>2</td>\n",
       "      <td>1.0</td>\n",
       "      <td>6.0</td>\n",
       "      <td>...</td>\n",
       "      <td>0.0</td>\n",
       "      <td>1.0</td>\n",
       "      <td>2.0</td>\n",
       "      <td>1.0</td>\n",
       "      <td>0.0</td>\n",
       "      <td>1.0</td>\n",
       "      <td>vehicule</td>\n",
       "      <td>0.0</td>\n",
       "      <td>1.0</td>\n",
       "      <td>0.0</td>\n",
       "    </tr>\n",
       "    <tr>\n",
       "      <th>4</th>\n",
       "      <td>201600000002</td>\n",
       "      <td>16</td>\n",
       "      <td>3</td>\n",
       "      <td>16</td>\n",
       "      <td>1800</td>\n",
       "      <td>1</td>\n",
       "      <td>2</td>\n",
       "      <td>2</td>\n",
       "      <td>1.0</td>\n",
       "      <td>6.0</td>\n",
       "      <td>...</td>\n",
       "      <td>0.0</td>\n",
       "      <td>1.0</td>\n",
       "      <td>2.0</td>\n",
       "      <td>1.0</td>\n",
       "      <td>0.0</td>\n",
       "      <td>1.0</td>\n",
       "      <td>vehicule</td>\n",
       "      <td>0.0</td>\n",
       "      <td>1.0</td>\n",
       "      <td>1.0</td>\n",
       "    </tr>\n",
       "    <tr>\n",
       "      <th>...</th>\n",
       "      <td>...</td>\n",
       "      <td>...</td>\n",
       "      <td>...</td>\n",
       "      <td>...</td>\n",
       "      <td>...</td>\n",
       "      <td>...</td>\n",
       "      <td>...</td>\n",
       "      <td>...</td>\n",
       "      <td>...</td>\n",
       "      <td>...</td>\n",
       "      <td>...</td>\n",
       "      <td>...</td>\n",
       "      <td>...</td>\n",
       "      <td>...</td>\n",
       "      <td>...</td>\n",
       "      <td>...</td>\n",
       "      <td>...</td>\n",
       "      <td>...</td>\n",
       "      <td>...</td>\n",
       "      <td>...</td>\n",
       "      <td>...</td>\n",
       "    </tr>\n",
       "    <tr>\n",
       "      <th>1808413</th>\n",
       "      <td>200500084525</td>\n",
       "      <td>5</td>\n",
       "      <td>12</td>\n",
       "      <td>31</td>\n",
       "      <td>2030</td>\n",
       "      <td>3</td>\n",
       "      <td>1</td>\n",
       "      <td>1</td>\n",
       "      <td>1.0</td>\n",
       "      <td>3.0</td>\n",
       "      <td>...</td>\n",
       "      <td>3.0</td>\n",
       "      <td>2.0</td>\n",
       "      <td>2.0</td>\n",
       "      <td>1.0</td>\n",
       "      <td>0.0</td>\n",
       "      <td>1.0</td>\n",
       "      <td>vehicule</td>\n",
       "      <td>0.0</td>\n",
       "      <td>4.0</td>\n",
       "      <td>0.0</td>\n",
       "    </tr>\n",
       "    <tr>\n",
       "      <th>1808414</th>\n",
       "      <td>200500084525</td>\n",
       "      <td>5</td>\n",
       "      <td>12</td>\n",
       "      <td>31</td>\n",
       "      <td>2030</td>\n",
       "      <td>3</td>\n",
       "      <td>1</td>\n",
       "      <td>1</td>\n",
       "      <td>1.0</td>\n",
       "      <td>3.0</td>\n",
       "      <td>...</td>\n",
       "      <td>3.0</td>\n",
       "      <td>2.0</td>\n",
       "      <td>2.0</td>\n",
       "      <td>1.0</td>\n",
       "      <td>0.0</td>\n",
       "      <td>1.0</td>\n",
       "      <td>vehicule</td>\n",
       "      <td>0.0</td>\n",
       "      <td>1.0</td>\n",
       "      <td>1.0</td>\n",
       "    </tr>\n",
       "    <tr>\n",
       "      <th>1808415</th>\n",
       "      <td>200500084525</td>\n",
       "      <td>5</td>\n",
       "      <td>12</td>\n",
       "      <td>31</td>\n",
       "      <td>2030</td>\n",
       "      <td>3</td>\n",
       "      <td>1</td>\n",
       "      <td>1</td>\n",
       "      <td>1.0</td>\n",
       "      <td>3.0</td>\n",
       "      <td>...</td>\n",
       "      <td>3.0</td>\n",
       "      <td>2.0</td>\n",
       "      <td>2.0</td>\n",
       "      <td>1.0</td>\n",
       "      <td>0.0</td>\n",
       "      <td>1.0</td>\n",
       "      <td>vehicule</td>\n",
       "      <td>0.0</td>\n",
       "      <td>1.0</td>\n",
       "      <td>1.0</td>\n",
       "    </tr>\n",
       "    <tr>\n",
       "      <th>1808416</th>\n",
       "      <td>200500084525</td>\n",
       "      <td>5</td>\n",
       "      <td>12</td>\n",
       "      <td>31</td>\n",
       "      <td>2030</td>\n",
       "      <td>3</td>\n",
       "      <td>1</td>\n",
       "      <td>1</td>\n",
       "      <td>1.0</td>\n",
       "      <td>3.0</td>\n",
       "      <td>...</td>\n",
       "      <td>3.0</td>\n",
       "      <td>2.0</td>\n",
       "      <td>2.0</td>\n",
       "      <td>1.0</td>\n",
       "      <td>0.0</td>\n",
       "      <td>1.0</td>\n",
       "      <td>vehicule</td>\n",
       "      <td>0.0</td>\n",
       "      <td>1.0</td>\n",
       "      <td>1.0</td>\n",
       "    </tr>\n",
       "    <tr>\n",
       "      <th>1808417</th>\n",
       "      <td>200500084525</td>\n",
       "      <td>5</td>\n",
       "      <td>12</td>\n",
       "      <td>31</td>\n",
       "      <td>2030</td>\n",
       "      <td>3</td>\n",
       "      <td>1</td>\n",
       "      <td>1</td>\n",
       "      <td>1.0</td>\n",
       "      <td>3.0</td>\n",
       "      <td>...</td>\n",
       "      <td>3.0</td>\n",
       "      <td>2.0</td>\n",
       "      <td>2.0</td>\n",
       "      <td>1.0</td>\n",
       "      <td>0.0</td>\n",
       "      <td>1.0</td>\n",
       "      <td>vehicule</td>\n",
       "      <td>0.0</td>\n",
       "      <td>1.0</td>\n",
       "      <td>1.0</td>\n",
       "    </tr>\n",
       "  </tbody>\n",
       "</table>\n",
       "<p>1808418 rows × 31 columns</p>\n",
       "</div>"
      ],
      "text/plain": [
       "              Num_Acc  an  mois  jour  hrmn  lum  agg  int  atm  col  ...  \\\n",
       "0        201600000001  16     2     1  1445    1    2    1  9.0  3.0  ...   \n",
       "1        201600000001  16     2     1  1445    1    2    1  9.0  3.0  ...   \n",
       "2        201600000002  16     3    16  1800    1    2    2  1.0  6.0  ...   \n",
       "3        201600000002  16     3    16  1800    1    2    2  1.0  6.0  ...   \n",
       "4        201600000002  16     3    16  1800    1    2    2  1.0  6.0  ...   \n",
       "...               ...  ..   ...   ...   ...  ...  ...  ...  ...  ...  ...   \n",
       "1808413  200500084525   5    12    31  2030    3    1    1  1.0  3.0  ...   \n",
       "1808414  200500084525   5    12    31  2030    3    1    1  1.0  3.0  ...   \n",
       "1808415  200500084525   5    12    31  2030    3    1    1  1.0  3.0  ...   \n",
       "1808416  200500084525   5    12    31  2030    3    1    1  1.0  3.0  ...   \n",
       "1808417  200500084525   5    12    31  2030    3    1    1  1.0  3.0  ...   \n",
       "\n",
       "         nbv  prof  plan  surf  infra  situ      catv  occutc choc  cluster  \n",
       "0        0.0   1.0   3.0   1.0    0.0   1.0  vehicule     0.0  1.0      1.0  \n",
       "1        0.0   1.0   3.0   1.0    0.0   1.0    2roues     0.0  7.0      0.0  \n",
       "2        0.0   1.0   2.0   1.0    0.0   1.0  vehicule     0.0  1.0      0.0  \n",
       "3        0.0   1.0   2.0   1.0    0.0   1.0  vehicule     0.0  1.0      0.0  \n",
       "4        0.0   1.0   2.0   1.0    0.0   1.0  vehicule     0.0  1.0      1.0  \n",
       "...      ...   ...   ...   ...    ...   ...       ...     ...  ...      ...  \n",
       "1808413  3.0   2.0   2.0   1.0    0.0   1.0  vehicule     0.0  4.0      0.0  \n",
       "1808414  3.0   2.0   2.0   1.0    0.0   1.0  vehicule     0.0  1.0      1.0  \n",
       "1808415  3.0   2.0   2.0   1.0    0.0   1.0  vehicule     0.0  1.0      1.0  \n",
       "1808416  3.0   2.0   2.0   1.0    0.0   1.0  vehicule     0.0  1.0      1.0  \n",
       "1808417  3.0   2.0   2.0   1.0    0.0   1.0  vehicule     0.0  1.0      1.0  \n",
       "\n",
       "[1808418 rows x 31 columns]"
      ]
     },
     "execution_count": 199,
     "metadata": {},
     "output_type": "execute_result"
    }
   ],
   "source": [
    "accidents"
   ]
  },
  {
   "cell_type": "code",
   "execution_count": 200,
   "metadata": {},
   "outputs": [],
   "source": [
    "Cluster_0 = accidents[accidents['cluster']==0]\n",
    "Cluster_1 = accidents[accidents['cluster']==1]\n",
    "Cluster_2 = accidents[accidents['cluster']==2]"
   ]
  },
  {
   "cell_type": "markdown",
   "metadata": {},
   "source": [
    "###### Nous remarquons que le cluster 2 contient le plus d'accidents à passages gravement blessé ou morts."
   ]
  },
  {
   "cell_type": "code",
   "execution_count": 201,
   "metadata": {},
   "outputs": [],
   "source": [
    "accid_grouped = pd.DataFrame(accidents.groupby('cluster').grav.value_counts(normalize=True)).rename(columns={'grav':'nb'}).reset_index()"
   ]
  },
  {
   "cell_type": "code",
   "execution_count": 202,
   "metadata": {},
   "outputs": [
    {
     "data": {
      "image/png": "[encoded data removed]",
      "text/plain": [
       "<Figure size 1080x720 with 1 Axes>"
      ]
     },
     "metadata": {
      "needs_background": "light"
     },
     "output_type": "display_data"
    }
   ],
   "source": [
    "plt.figure(figsize=(15,10))\n",
    "sns.barplot(accid_grouped[\"cluster\"], accid_grouped[\"nb\"], hue=accid_grouped[\"grav\"])\n",
    "plt.show()"
   ]
  },
  {
   "cell_type": "code",
   "execution_count": 203,
   "metadata": {},
   "outputs": [
    {
     "data": {
      "text/plain": [
       "<AxesSubplot: xlabel='cluster'>"
      ]
     },
     "execution_count": 203,
     "metadata": {},
     "output_type": "execute_result"
    },
    {
     "data": {
      "image/png": "[encoded data removed]",
      "text/plain": [
       "<Figure size 432x288 with 1 Axes>"
      ]
     },
     "metadata": {
      "needs_background": "light"
     },
     "output_type": "display_data"
    }
   ],
   "source": [
    "\n",
    "accidents.groupby('cluster')['grav'].value_counts(normalize=True).unstack('grav').plot.bar(stacked=True)\n"
   ]
  },
  {
   "cell_type": "code",
   "execution_count": 204,
   "metadata": {},
   "outputs": [
    {
     "data": {
      "text/plain": [
       "<AxesSubplot: xlabel='cluster'>"
      ]
     },
     "execution_count": 204,
     "metadata": {},
     "output_type": "execute_result"
    },
    {
     "data": {
      "image/png": "[encoded data removed]",
      "text/plain": [
       "<Figure size 432x288 with 1 Axes>"
      ]
     },
     "metadata": {
      "needs_background": "light"
     },
     "output_type": "display_data"
    }
   ],
   "source": [
    "accidents.groupby('cluster')['sexe'].value_counts(normalize=True).unstack('sexe').plot.bar(stacked=True)"
   ]
  },
  {
   "cell_type": "code",
   "execution_count": 205,
   "metadata": {
    "scrolled": true
   },
   "outputs": [
    {
     "data": {
      "text/plain": [
       "<AxesSubplot: xlabel='cluster'>"
      ]
     },
     "execution_count": 205,
     "metadata": {},
     "output_type": "execute_result"
    },
    {
     "data": {
      "image/png": "[encoded data removed]",
      "text/plain": [
       "<Figure size 432x288 with 1 Axes>"
      ]
     },
     "metadata": {
      "needs_background": "light"
     },
     "output_type": "display_data"
    }
   ],
   "source": [
    "accidents.groupby('cluster')['catv'].value_counts(normalize=True).unstack('catv').plot.bar(stacked=True)"
   ]
  },
  {
   "cell_type": "code",
   "execution_count": 206,
   "metadata": {
    "scrolled": true
   },
   "outputs": [
    {
     "data": {
      "text/plain": [
       "<AxesSubplot: xlabel='cluster'>"
      ]
     },
     "execution_count": 206,
     "metadata": {},
     "output_type": "execute_result"
    },
    {
     "data": {
      "image/png": "[encoded data removed]",
      "text/plain": [
       "<Figure size 432x288 with 1 Axes>"
      ]
     },
     "metadata": {
      "needs_background": "light"
     },
     "output_type": "display_data"
    }
   ],
   "source": [
    "accidents.groupby('cluster')['surf'].value_counts(normalize=True).unstack('surf').plot.bar(stacked=True)"
   ]
  },
  {
   "cell_type": "code",
   "execution_count": 207,
   "metadata": {},
   "outputs": [
    {
     "data": {
      "text/plain": [
       "<AxesSubplot: xlabel='cluster'>"
      ]
     },
     "execution_count": 207,
     "metadata": {},
     "output_type": "execute_result"
    },
    {
     "data": {
      "image/png": "[encoded data removed]",
      "text/plain": [
       "<Figure size 432x288 with 1 Axes>"
      ]
     },
     "metadata": {
      "needs_background": "light"
     },
     "output_type": "display_data"
    }
   ],
   "source": [
    "accidents.groupby('cluster')['catu'].value_counts(normalize=True).unstack('catu').plot.bar(stacked=True)"
   ]
  },
  {
   "cell_type": "markdown",
   "metadata": {},
   "source": [
    "# data vis"
   ]
  },
  {
   "cell_type": "code",
   "execution_count": null,
   "metadata": {
    "scrolled": true
   },
   "outputs": [],
   "source": [
    "from pandas_profiling import ProfileReport\n",
    "import pandas as pd\n",
    "\n",
    "#prof = ProfileReport(accidents)\n",
    "#prof.to_file(output_file='rapport.html')\n"
   ]
  },
  {
   "cell_type": "code",
   "execution_count": null,
   "metadata": {},
   "outputs": [],
   "source": []
  }
 ],
 "metadata": {
  "kernelspec": {
   "display_name": "Python 3",
   "language": "python",
   "name": "python3"
  },
  "language_info": {
   "codemirror_mode": {
    "name": "ipython",
    "version": 3
   },
   "file_extension": ".py",
   "mimetype": "text/x-python",
   "name": "python",
   "nbconvert_exporter": "python",
   "pygments_lexer": "ipython3",
   "version": "3.8.3"
  }
 },
 "nbformat": 4,
 "nbformat_minor": 4
}
